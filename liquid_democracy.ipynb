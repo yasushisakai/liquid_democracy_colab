{
  "nbformat": 4,
  "nbformat_minor": 0,
  "metadata": {
    "colab": {
      "provenance": [],
      "authorship_tag": "ABX9TyM7I/TOYQIzYWh+TJG09+em",
      "include_colab_link": true
    },
    "kernelspec": {
      "name": "python3",
      "display_name": "Python 3"
    },
    "language_info": {
      "name": "python"
    }
  },
  "cells": [
    {
      "cell_type": "markdown",
      "metadata": {
        "id": "view-in-github",
        "colab_type": "text"
      },
      "source": [
        "<a href=\"https://colab.research.google.com/github/yasushisakai/liquid_democracy_colab/blob/main/liquid_democracy.ipynb\" target=\"_parent\"><img src=\"https://colab.research.google.com/assets/colab-badge.svg\" alt=\"Open In Colab\"/></a>"
      ]
    },
    {
      "cell_type": "code",
      "execution_count": 12,
      "metadata": {
        "colab": {
          "base_uri": "https://localhost:8080/"
        },
        "id": "cb6mX7tdrrzK",
        "outputId": "64e7603b-7d15-4ffa-bbec-6a5905a45dbc"
      },
      "outputs": [
        {
          "output_type": "stream",
          "name": "stdout",
          "text": [
            "[[0.  0.2 0.  0.  0.  0.  0. ]\n",
            " [0.1 0.  0.  0.  0.  0.  0. ]\n",
            " [0.2 0.  0.  0.  0.  0.  0. ]\n",
            " [0.  0.8 0.  0.  0.  0.  0. ]\n",
            " [0.3 0.  0.  0.5 1.  0.  0. ]\n",
            " [0.2 0.  0.  0.5 0.  1.  0. ]\n",
            " [0.2 0.  1.  0.  0.  0.  1. ]]\n",
            "results:  [0.81632653 0.69387755 1.48979592]\n",
            "influences:  [1.2        1.1        1.24489796 1.89795918]\n"
          ]
        }
      ],
      "source": [
        "import pandas as pd\n",
        "import numpy as np\n",
        "\n",
        "num_delegates = 3\n",
        "num_intermediaries = 1\n",
        "num_policies = 3\n",
        "\n",
        "votes = {\n",
        "    'alice':    [  0, 0.1, 0.2,   0, 0.3, 0.2, 0.2], # delegate\n",
        "    'bob':      [0.2,   0,   0, 0.8,   0,   0,   0], # delegate\n",
        "    'charlie':  [  0,   0,   0,   0,   0,   0, 1.0], # delegate\n",
        "    'japanese': [  0,   0,   0,   0, 0.5, 0.5,   0], # intermediate: equally votes to 'ramen' and 'sushi'\n",
        "    'ramen':    [  0,   0,   0,   0, 1.0,   0,   0], # policies\n",
        "    'sushi':    [  0,   0,   0,   0,   0, 1.0,   0], # policies\n",
        "    'tacos':    [  0,   0,   0,   0,   0,   0, 1.0], # policies\n",
        "}\n",
        "\n",
        "v = pd.DataFrame(data = votes).to_numpy()\n",
        "\n",
        "print(v)\n",
        "\n",
        "a = np.eye(len(votes))\n",
        "influence = np.eye(len(votes))\n",
        "\n",
        "for i in range(100):\n",
        "    a = np.dot(v, a)\n",
        "    influence += a \n",
        "\n",
        "sub = a[np.ix_(range(num_delegates+num_intermediaries, len(votes)), range(0, num_delegates))]\n",
        "results = np.sum(sub, axis = 1)\n",
        "print('results: ', results)\n",
        "\n",
        "sub = influence[np.ix_(range(0, num_delegates+num_intermediaries), range(0, num_delegates+num_intermediaries))]\n",
        "influences = np.sum(sub, axis = 1) / sub.diagonal()\n",
        "\n",
        "print('influences: ', influences)"
      ]
    },
    {
      "cell_type": "markdown",
      "source": [
        "policy wise 'tacos' wins and 'japanese' is most influential"
      ],
      "metadata": {
        "id": "PQ_B8uA70r0c"
      }
    }
  ]
}